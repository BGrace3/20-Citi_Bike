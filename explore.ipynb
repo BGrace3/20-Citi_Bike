{
 "cells": [
  {
   "cell_type": "code",
   "execution_count": 22,
   "metadata": {},
   "outputs": [],
   "source": [
    "import pandas as pd\n",
    "import numpy as np\n",
    "import datetime as datetime"
   ]
  },
  {
   "cell_type": "code",
   "execution_count": 23,
   "metadata": {},
   "outputs": [],
   "source": [
    "file = \"2018CB.csv\"\n",
    "\n",
    "# Read the .csv into a dataframe\n",
    "df18 = pd.read_csv(file, encoding=\"ISO-8859-1\")\n",
    "\n",
    "# calculate approximate age of rider\n",
    "df18['age'] = 2018 - df18['birth year']"
   ]
  },
  {
   "cell_type": "code",
   "execution_count": 24,
   "metadata": {
    "scrolled": false
   },
   "outputs": [],
   "source": [
    "file = \"2019CB.csv\"\n",
    "\n",
    "# Read the .csv into a dataframe\n",
    "df19 = pd.read_csv(file, encoding=\"ISO-8859-1\")\n",
    "\n",
    "# calculate approximate age of rider\n",
    "df19['age'] = 2019 - df19['birth year']"
   ]
  },
  {
   "cell_type": "code",
   "execution_count": 25,
   "metadata": {},
   "outputs": [],
   "source": [
    "# Concatenate dataframes\n",
    "df_combined = pd.concat([df18,df19],axis=0, join='outer', ignore_index=True) "
   ]
  },
  {
   "cell_type": "code",
   "execution_count": 30,
   "metadata": {
    "scrolled": true
   },
   "outputs": [],
   "source": [
    "# Change Gender NaN to 0\n",
    "df['gender'] = df['gender'].fillna(0)\n",
    "\n",
    "# Drop rows with all NaN, age out of range, and tripduration <600 (10 minutes)\n",
    "df = df.dropna(how='all')\n",
    "df = df.drop(df[(df.age < 12)].index)\n",
    "df = df.drop(df[(df.age > 80)].index)\n",
    "df = df.drop(df[(df.tripduration <600)].index)\n",
    "df = df.drop(df[(df.tripduration > 14400)].index)\n",
    "\n",
    "# Convert starttime to datetime \n",
    "df['starttime'] = pd.to_datetime(df['starttime'])\n",
    "\n",
    "# Seperate year and month from starttime\n",
    "df['year'] = df['starttime'].dt.year \n",
    "df['month'] = df['starttime'].dt.month"
   ]
  },
  {
   "cell_type": "code",
   "execution_count": 35,
   "metadata": {
    "scrolled": true
   },
   "outputs": [
    {
     "name": "stdout",
     "output_type": "stream",
     "text": [
      "<class 'pandas.core.frame.DataFrame'>\n",
      "Int64Index: 46572 entries, 20 to 262917\n",
      "Data columns (total 18 columns):\n",
      "tripduration               46572 non-null int64\n",
      "starttime                  46572 non-null datetime64[ns]\n",
      "stoptime                   46572 non-null object\n",
      "start station id           46572 non-null int64\n",
      "start station name         46572 non-null object\n",
      "start station latitude     46572 non-null float64\n",
      "start station longitude    46572 non-null float64\n",
      "end station id             46572 non-null int64\n",
      "end station name           46572 non-null object\n",
      "end station latitude       46572 non-null float64\n",
      "end station longitude      46572 non-null float64\n",
      "bikeid                     46572 non-null int64\n",
      "usertype                   46572 non-null object\n",
      "birth year                 46572 non-null int64\n",
      "gender                     46572 non-null int64\n",
      "age                        46572 non-null int64\n",
      "year                       46572 non-null int64\n",
      "month                      46572 non-null int64\n",
      "dtypes: datetime64[ns](1), float64(4), int64(9), object(4)\n",
      "memory usage: 6.8+ MB\n"
     ]
    }
   ],
   "source": [
    "df.info()"
   ]
  },
  {
   "cell_type": "code",
   "execution_count": 32,
   "metadata": {},
   "outputs": [],
   "source": [
    "# Save combined data in a .csv file\n",
    "df.to_csv(\"18_19CB.csv\")"
   ]
  },
  {
   "cell_type": "code",
   "execution_count": 33,
   "metadata": {},
   "outputs": [
    {
     "data": {
      "text/plain": [
       "911"
      ]
     },
     "execution_count": 33,
     "metadata": {},
     "output_type": "execute_result"
    }
   ],
   "source": [
    "# Build equipment dataset\n",
    "equip_df = df.groupby('bikeid')['tripduration'].sum()\n",
    "\n",
    "equip_df.count()"
   ]
  },
  {
   "cell_type": "code",
   "execution_count": 34,
   "metadata": {},
   "outputs": [
    {
     "data": {
      "text/plain": [
       "year  usertype  gender  age\n",
       "2018  Customer  0       19      854\n",
       "                        21     2544\n",
       "                        25     1018\n",
       "                        26      675\n",
       "                        27     1323\n",
       "                        28     2221\n",
       "                        30      678\n",
       "                        32      779\n",
       "                        33     1437\n",
       "                        35     1548\n",
       "Name: tripduration, dtype: int64"
      ]
     },
     "execution_count": 34,
     "metadata": {},
     "output_type": "execute_result"
    }
   ],
   "source": [
    "# Build member dataset\n",
    "member_df = df.groupby(['year', 'usertype', 'gender', 'age'])['tripduration'].sum()\n",
    "\n",
    "member_df.head(10)"
   ]
  },
  {
   "cell_type": "code",
   "execution_count": 39,
   "metadata": {},
   "outputs": [
    {
     "data": {
      "text/html": [
       "<div>\n",
       "<style scoped>\n",
       "    .dataframe tbody tr th:only-of-type {\n",
       "        vertical-align: middle;\n",
       "    }\n",
       "\n",
       "    .dataframe tbody tr th {\n",
       "        vertical-align: top;\n",
       "    }\n",
       "\n",
       "    .dataframe thead th {\n",
       "        text-align: right;\n",
       "    }\n",
       "</style>\n",
       "<table border=\"1\" class=\"dataframe\">\n",
       "  <thead>\n",
       "    <tr style=\"text-align: right;\">\n",
       "      <th></th>\n",
       "      <th>year</th>\n",
       "      <th>month</th>\n",
       "      <th>start station name</th>\n",
       "      <th>end station name</th>\n",
       "      <th>start station latitude</th>\n",
       "      <th>start station longitude</th>\n",
       "      <th>end station latitude</th>\n",
       "      <th>end station longitude</th>\n",
       "    </tr>\n",
       "  </thead>\n",
       "  <tbody>\n",
       "    <tr>\n",
       "      <th>20</th>\n",
       "      <td>2018</td>\n",
       "      <td>1</td>\n",
       "      <td>Exchange Place</td>\n",
       "      <td>McGinley Square</td>\n",
       "      <td>40.716247</td>\n",
       "      <td>-74.033459</td>\n",
       "      <td>40.725340</td>\n",
       "      <td>-74.067622</td>\n",
       "    </tr>\n",
       "    <tr>\n",
       "      <th>63</th>\n",
       "      <td>2018</td>\n",
       "      <td>1</td>\n",
       "      <td>Exchange Place</td>\n",
       "      <td>Jersey &amp; 3rd</td>\n",
       "      <td>40.716247</td>\n",
       "      <td>-74.033459</td>\n",
       "      <td>40.723332</td>\n",
       "      <td>-74.045953</td>\n",
       "    </tr>\n",
       "    <tr>\n",
       "      <th>75</th>\n",
       "      <td>2018</td>\n",
       "      <td>1</td>\n",
       "      <td>Exchange Place</td>\n",
       "      <td>Newport Pkwy</td>\n",
       "      <td>40.716247</td>\n",
       "      <td>-74.033459</td>\n",
       "      <td>40.728745</td>\n",
       "      <td>-74.032108</td>\n",
       "    </tr>\n",
       "    <tr>\n",
       "      <th>91</th>\n",
       "      <td>2018</td>\n",
       "      <td>1</td>\n",
       "      <td>Exchange Place</td>\n",
       "      <td>McGinley Square</td>\n",
       "      <td>40.716247</td>\n",
       "      <td>-74.033459</td>\n",
       "      <td>40.725340</td>\n",
       "      <td>-74.067622</td>\n",
       "    </tr>\n",
       "    <tr>\n",
       "      <th>122</th>\n",
       "      <td>2018</td>\n",
       "      <td>1</td>\n",
       "      <td>Exchange Place</td>\n",
       "      <td>Oakland Ave</td>\n",
       "      <td>40.716247</td>\n",
       "      <td>-74.033459</td>\n",
       "      <td>40.737604</td>\n",
       "      <td>-74.052478</td>\n",
       "    </tr>\n",
       "    <tr>\n",
       "      <th>133</th>\n",
       "      <td>2018</td>\n",
       "      <td>1</td>\n",
       "      <td>Exchange Place</td>\n",
       "      <td>Newport PATH</td>\n",
       "      <td>40.716247</td>\n",
       "      <td>-74.033459</td>\n",
       "      <td>40.727224</td>\n",
       "      <td>-74.033759</td>\n",
       "    </tr>\n",
       "    <tr>\n",
       "      <th>134</th>\n",
       "      <td>2018</td>\n",
       "      <td>1</td>\n",
       "      <td>Exchange Place</td>\n",
       "      <td>Hamilton Park</td>\n",
       "      <td>40.716247</td>\n",
       "      <td>-74.033459</td>\n",
       "      <td>40.727596</td>\n",
       "      <td>-74.044247</td>\n",
       "    </tr>\n",
       "    <tr>\n",
       "      <th>140</th>\n",
       "      <td>2018</td>\n",
       "      <td>1</td>\n",
       "      <td>Exchange Place</td>\n",
       "      <td>McGinley Square</td>\n",
       "      <td>40.716247</td>\n",
       "      <td>-74.033459</td>\n",
       "      <td>40.725340</td>\n",
       "      <td>-74.067622</td>\n",
       "    </tr>\n",
       "    <tr>\n",
       "      <th>141</th>\n",
       "      <td>2018</td>\n",
       "      <td>1</td>\n",
       "      <td>Exchange Place</td>\n",
       "      <td>Newport Pkwy</td>\n",
       "      <td>40.716247</td>\n",
       "      <td>-74.033459</td>\n",
       "      <td>40.728745</td>\n",
       "      <td>-74.032108</td>\n",
       "    </tr>\n",
       "    <tr>\n",
       "      <th>147</th>\n",
       "      <td>2018</td>\n",
       "      <td>1</td>\n",
       "      <td>Exchange Place</td>\n",
       "      <td>Oakland Ave</td>\n",
       "      <td>40.716247</td>\n",
       "      <td>-74.033459</td>\n",
       "      <td>40.737604</td>\n",
       "      <td>-74.052478</td>\n",
       "    </tr>\n",
       "  </tbody>\n",
       "</table>\n",
       "</div>"
      ],
      "text/plain": [
       "     year  month start station name end station name  start station latitude  \\\n",
       "20   2018      1     Exchange Place  McGinley Square               40.716247   \n",
       "63   2018      1     Exchange Place     Jersey & 3rd               40.716247   \n",
       "75   2018      1     Exchange Place     Newport Pkwy               40.716247   \n",
       "91   2018      1     Exchange Place  McGinley Square               40.716247   \n",
       "122  2018      1     Exchange Place      Oakland Ave               40.716247   \n",
       "133  2018      1     Exchange Place     Newport PATH               40.716247   \n",
       "134  2018      1     Exchange Place    Hamilton Park               40.716247   \n",
       "140  2018      1     Exchange Place  McGinley Square               40.716247   \n",
       "141  2018      1     Exchange Place     Newport Pkwy               40.716247   \n",
       "147  2018      1     Exchange Place      Oakland Ave               40.716247   \n",
       "\n",
       "     start station longitude  end station latitude  end station longitude  \n",
       "20                -74.033459             40.725340             -74.067622  \n",
       "63                -74.033459             40.723332             -74.045953  \n",
       "75                -74.033459             40.728745             -74.032108  \n",
       "91                -74.033459             40.725340             -74.067622  \n",
       "122               -74.033459             40.737604             -74.052478  \n",
       "133               -74.033459             40.727224             -74.033759  \n",
       "134               -74.033459             40.727596             -74.044247  \n",
       "140               -74.033459             40.725340             -74.067622  \n",
       "141               -74.033459             40.728745             -74.032108  \n",
       "147               -74.033459             40.737604             -74.052478  "
      ]
     },
     "execution_count": 39,
     "metadata": {},
     "output_type": "execute_result"
    }
   ],
   "source": [
    "# Build trip dataset\n",
    "trip_df = pd.DataFrame(df,columns=['year', 'month', 'start station name', 'end station name', 'start station latitude', 'start station longitude', 'end station latitude', 'end station longitude'])\n",
    "\n",
    "trip_df.head(10)"
   ]
  },
  {
   "cell_type": "code",
   "execution_count": 40,
   "metadata": {},
   "outputs": [
    {
     "name": "stderr",
     "output_type": "stream",
     "text": [
      "C:\\Users\\Owner\\Anaconda3\\lib\\site-packages\\ipykernel_launcher.py:2: FutureWarning: The signature of `Series.to_csv` was aligned to that of `DataFrame.to_csv`, and argument 'header' will change its default value from False to True: please pass an explicit value to suppress this warning.\n",
      "  \n",
      "C:\\Users\\Owner\\Anaconda3\\lib\\site-packages\\ipykernel_launcher.py:3: FutureWarning: The signature of `Series.to_csv` was aligned to that of `DataFrame.to_csv`, and argument 'header' will change its default value from False to True: please pass an explicit value to suppress this warning.\n",
      "  This is separate from the ipykernel package so we can avoid doing imports until\n"
     ]
    }
   ],
   "source": [
    "# Save datasets as .csv files\n",
    "equip_df.to_csv(\"equipment.csv\")\n",
    "member_df.to_csv(\"member.csv\")\n",
    "trip_df.to_csv(\"trip.csv\")\n"
   ]
  }
 ],
 "metadata": {
  "kernelspec": {
   "display_name": "Python 3",
   "language": "python",
   "name": "python3"
  },
  "language_info": {
   "codemirror_mode": {
    "name": "ipython",
    "version": 3
   },
   "file_extension": ".py",
   "mimetype": "text/x-python",
   "name": "python",
   "nbconvert_exporter": "python",
   "pygments_lexer": "ipython3",
   "version": "3.7.3"
  }
 },
 "nbformat": 4,
 "nbformat_minor": 2
}
